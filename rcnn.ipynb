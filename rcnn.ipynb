{
 "cells": [
  {
   "cell_type": "code",
   "execution_count": 1,
   "metadata": {},
   "outputs": [
    {
     "name": "stderr",
     "output_type": "stream",
     "text": [
      "In /home/suzi/anaconda3/envs/tf2/lib/python3.7/site-packages/matplotlib/mpl-data/stylelib/_classic_test.mplstyle: \n",
      "The text.latex.preview rcparam was deprecated in Matplotlib 3.3 and will be removed two minor releases later.\n",
      "In /home/suzi/anaconda3/envs/tf2/lib/python3.7/site-packages/matplotlib/mpl-data/stylelib/_classic_test.mplstyle: \n",
      "The mathtext.fallback_to_cm rcparam was deprecated in Matplotlib 3.3 and will be removed two minor releases later.\n",
      "In /home/suzi/anaconda3/envs/tf2/lib/python3.7/site-packages/matplotlib/mpl-data/stylelib/_classic_test.mplstyle: Support for setting the 'mathtext.fallback_to_cm' rcParam is deprecated since 3.3 and will be removed two minor releases later; use 'mathtext.fallback : 'cm' instead.\n",
      "In /home/suzi/anaconda3/envs/tf2/lib/python3.7/site-packages/matplotlib/mpl-data/stylelib/_classic_test.mplstyle: \n",
      "The validate_bool_maybe_none function was deprecated in Matplotlib 3.3 and will be removed two minor releases later.\n",
      "In /home/suzi/anaconda3/envs/tf2/lib/python3.7/site-packages/matplotlib/mpl-data/stylelib/_classic_test.mplstyle: \n",
      "The savefig.jpeg_quality rcparam was deprecated in Matplotlib 3.3 and will be removed two minor releases later.\n",
      "In /home/suzi/anaconda3/envs/tf2/lib/python3.7/site-packages/matplotlib/mpl-data/stylelib/_classic_test.mplstyle: \n",
      "The keymap.all_axes rcparam was deprecated in Matplotlib 3.3 and will be removed two minor releases later.\n",
      "In /home/suzi/anaconda3/envs/tf2/lib/python3.7/site-packages/matplotlib/mpl-data/stylelib/_classic_test.mplstyle: \n",
      "The animation.avconv_path rcparam was deprecated in Matplotlib 3.3 and will be removed two minor releases later.\n",
      "In /home/suzi/anaconda3/envs/tf2/lib/python3.7/site-packages/matplotlib/mpl-data/stylelib/_classic_test.mplstyle: \n",
      "The animation.avconv_args rcparam was deprecated in Matplotlib 3.3 and will be removed two minor releases later.\n"
     ]
    },
    {
     "name": "stdout",
     "output_type": "stream",
     "text": [
      "2.0.0\n",
      "True\n"
     ]
    }
   ],
   "source": [
    "import librosa\n",
    "import numpy as np\n",
    "\n",
    "import os\n",
    "# os.environ[\"CUDA_VISIBLE_DEVICES\"] = \"-1\"\n",
    "\n",
    "import tensorflow as tf\n",
    "from tensorflow.keras import layers\n",
    "print(tf.__version__)\n",
    "print(tf.test.is_gpu_available())\n",
    "\n",
    "import matplotlib.pyplot as plt\n",
    "import numpy as np"
   ]
  },
  {
   "cell_type": "markdown",
   "metadata": {},
   "source": [
    "# config"
   ]
  },
  {
   "cell_type": "code",
   "execution_count": 2,
   "metadata": {},
   "outputs": [
    {
     "data": {
      "text/plain": [
       "929"
      ]
     },
     "execution_count": 2,
     "metadata": {},
     "output_type": "execute_result"
    }
   ],
   "source": [
    "# mel-spectrogram parameters\n",
    "SR = 12000\n",
    "N_FFT = 512\n",
    "N_MELS = 96\n",
    "HOP_LEN = 256\n",
    "n_sample_fit = 60672\n",
    "N_FRAME = 238\n",
    "\n",
    "data_path = '/media/suzi/Seagate Expansion Drive/cough_task_for_job/data/audio/audio'\n",
    "train_path = data_path + '/train/*/*'\n",
    "test_path = data_path + '/test/*/*'\n",
    "val_path = data_path + '/validation/*/*'\n",
    "\n",
    "class_names = ['sick', 'not_sick']\n",
    "batch_size = 4\n",
    "train_samples = 1434 + 2282\n",
    "steps_per_epoch = train_samples // batch_size\n",
    "steps_per_epoch"
   ]
  },
  {
   "cell_type": "code",
   "execution_count": 3,
   "metadata": {},
   "outputs": [],
   "source": [
    "def stats(t):\n",
    "    s = 'mean:'\n",
    "    s += str(t.mean())\n",
    "    s += ' max:'\n",
    "    s += str(t.max())\n",
    "    s += ' min:'\n",
    "    s += str(t.min())\n",
    "    s += ' median:'\n",
    "    s += str(np.median(t))\n",
    "    s += ' std:'\n",
    "    s += str(t.std())\n",
    "    s += ' shape:'\n",
    "    s += str(t.shape)\n",
    "    s += ' dtype:'\n",
    "    s += str(t.dtype)\n",
    "    print(s)"
   ]
  },
  {
   "cell_type": "code",
   "execution_count": 4,
   "metadata": {},
   "outputs": [],
   "source": [
    "def compute_melgram(audio_path):\n",
    "    ''' Compute a mel-spectrogram and returns it in a shape of (1,1,96,1366), where\n",
    "    96 == #mel-bins and 1366 == #time frame\n",
    "    parameters\n",
    "    ----------\n",
    "    audio_path: path for the audio file.\n",
    "                Any format supported by audioread will work.\n",
    "    More info: http://librosa.github.io/librosa/generated/librosa.core.load.html#librosa.core.load\n",
    "    '''\n",
    "\n",
    "    src, sr = librosa.load(audio_path, sr=SR)  # whole signal\n",
    "    n_sample = len(src)\n",
    "    if n_sample < n_sample_fit:  # if too short\n",
    "        src = np.hstack((src, np.zeros(n_sample_fit - n_sample, dtype=np.float32)))\n",
    "    elif n_sample > n_sample_fit:  # if too long\n",
    "        src = src[(n_sample-n_sample_fit)/2:(n_sample+n_sample_fit)/2]\n",
    "#     stats(src)\n",
    "\n",
    "\n",
    "    spec = librosa.feature.melspectrogram(y=src, sr=SR, hop_length=HOP_LEN, n_fft=N_FFT, n_mels=N_MELS)\n",
    "#     stats(spec)\n",
    "\n",
    "    ret = librosa.amplitude_to_db(spec)\n",
    "    ret = (ret-ret.min())/(ret.max()-ret.min() + 1e-5)\n",
    "\n",
    "    ret = ret[..., np.newaxis]\n",
    "    return ret\n",
    "\n",
    "def plot_mel(ret):\n",
    "    plt.figure()\n",
    "    plt.pcolormesh(ret)\n",
    "    plt.colorbar()\n",
    "    plt.show()"
   ]
  },
  {
   "cell_type": "code",
   "execution_count": 5,
   "metadata": {
    "scrolled": true
   },
   "outputs": [
    {
     "name": "stdout",
     "output_type": "stream",
     "text": [
      "mean:0.021758145 max:0.9999999 min:0.0 median:0.0 std:0.08211287 shape:(96, 238, 1) dtype:float32\n"
     ]
    },
    {
     "data": {
      "image/png": "[encoded data removed]",
      "text/plain": [
       "<Figure size 432x288 with 2 Axes>"
      ]
     },
     "metadata": {
      "needs_background": "light"
     },
     "output_type": "display_data"
    }
   ],
   "source": [
    "ret = compute_melgram('/media/suzi/Seagate Expansion Drive/cough_task_for_job/data/audio/audio/test/sick/audioset_0-8Ht8OvuII_30_35.wav')\n",
    "stats(ret)\n",
    "plot_mel(ret[..., 0])"
   ]
  },
  {
   "cell_type": "code",
   "execution_count": 6,
   "metadata": {},
   "outputs": [],
   "source": [
    "def get_label(file_path):\n",
    "    # convert the path to a list of path components\n",
    "    parts = tf.strings.split(file_path, os.path.sep)\n",
    "    # The second to last is the class-directory\n",
    "    one_hot = parts[-2] == class_names\n",
    "    one_hot = tf.cast(one_hot, tf.int64)\n",
    "    # Integer encode the label\n",
    "    return tf.argmax(one_hot)\n",
    "# get_label('/media/suzi/Seagate Expansion Drive/cough_task_for_job/data/continuous_wavelet_transform/continuous_wavelet_transform/train/sick/audioset_0CroKP1sYVw_10_15.jpg')\n",
    "\n",
    "def process_path(file_path):\n",
    "    label = get_label(file_path)\n",
    "    # load the raw data from the file as a string\n",
    "    img = compute_melgram(bytes.decode(file_path.numpy()))\n",
    "    return img, label\n",
    "# img, label = process_path('/media/suzi/Seagate Expansion Drive/cough_task_for_job/data/audio/audio/test/sick/audioset_aiojV7s3hv0_55_60.wav')\n",
    "# stats(img)\n",
    "# label\n",
    "\n",
    "def set_dataset_shape(mel, label):\n",
    "    mel = tf.reshape(mel, [-1, N_MELS, N_FRAME, 1])\n",
    "    label = tf.reshape(label, (-1, ))\n",
    "    return mel, label\n",
    "\n",
    "def get_dataset(path, name):\n",
    "    ds = tf.data.Dataset.list_files(path)\n",
    "    ds = ds.map(lambda x: tf.py_function(process_path, [x], [tf.float32, tf.int64]), num_parallel_calls=tf.data.experimental.AUTOTUNE)\n",
    "    ds = ds.cache(name).shuffle(buffer_size=100).batch(batch_size).prefetch(buffer_size=tf.data.experimental.AUTOTUNE)\n",
    "    ds = ds.map(set_dataset_shape)\n",
    "    return ds\n"
   ]
  },
  {
   "cell_type": "code",
   "execution_count": 7,
   "metadata": {
    "scrolled": true
   },
   "outputs": [
    {
     "name": "stdout",
     "output_type": "stream",
     "text": [
      "<DatasetV1Adapter shapes: ((None, 96, 238, 1), (None,)), types: (tf.float32, tf.int64)>\n",
      "mean:0.038310666 max:0.9999999 min:0.0 median:0.0 std:0.12028779 shape:(4, 96, 238, 1) dtype:float32\n",
      "tf.Tensor([1 1 1 0], shape=(4,), dtype=int64)\n"
     ]
    }
   ],
   "source": [
    "train_ds = get_dataset(train_path, 'audio_train_catch')\n",
    "test_ds = get_dataset(test_path, 'audio_test_catch')\n",
    "val_ds = get_dataset(val_path, 'audio_val_catch')\n",
    "print(test_ds)\n",
    "for img, label in val_ds.take(1):\n",
    "    stats(img.numpy())\n",
    "    print(label)"
   ]
  },
  {
   "cell_type": "markdown",
   "metadata": {},
   "source": [
    "# model"
   ]
  },
  {
   "cell_type": "code",
   "execution_count": 66,
   "metadata": {},
   "outputs": [
    {
     "name": "stdout",
     "output_type": "stream",
     "text": [
      "Model: \"sequential_29\"\n",
      "_________________________________________________________________\n",
      "Layer (type)                 Output Shape              Param #   \n",
      "=================================================================\n",
      "zero_padding2d_29 (ZeroPaddi (None, 96, 240, 1)        0         \n",
      "_________________________________________________________________\n",
      "conv1 (Conv2D)               (None, 96, 240, 64)       2368      \n",
      "_________________________________________________________________\n",
      "bn1 (BatchNormalization)     (None, 96, 240, 64)       256       \n",
      "_________________________________________________________________\n",
      "elu1 (ELU)                   (None, 96, 240, 64)       0         \n",
      "_________________________________________________________________\n",
      "pool1 (MaxPooling2D)         (None, 48, 120, 64)       0         \n",
      "_________________________________________________________________\n",
      "dropout1 (Dropout)           (None, 48, 120, 64)       0         \n",
      "_________________________________________________________________\n",
      "conv2 (Conv2D)               (None, 48, 120, 128)      295040    \n",
      "_________________________________________________________________\n",
      "bn2 (BatchNormalization)     (None, 48, 120, 128)      512       \n",
      "_________________________________________________________________\n",
      "elu2 (ELU)                   (None, 48, 120, 128)      0         \n",
      "_________________________________________________________________\n",
      "pool2 (MaxPooling2D)         (None, 24, 60, 128)       0         \n",
      "_________________________________________________________________\n",
      "dropout2 (Dropout)           (None, 24, 60, 128)       0         \n",
      "_________________________________________________________________\n",
      "conv3 (Conv2D)               (None, 24, 60, 128)       589952    \n",
      "_________________________________________________________________\n",
      "bn3 (BatchNormalization)     (None, 24, 60, 128)       512       \n",
      "_________________________________________________________________\n",
      "elu3 (ELU)                   (None, 24, 60, 128)       0         \n",
      "_________________________________________________________________\n",
      "pool3 (MaxPooling2D)         (None, 12, 30, 128)       0         \n",
      "_________________________________________________________________\n",
      "dropout3 (Dropout)           (None, 12, 30, 128)       0         \n",
      "_________________________________________________________________\n",
      "conv4 (Conv2D)               (None, 12, 30, 128)       589952    \n",
      "_________________________________________________________________\n",
      "bn4 (BatchNormalization)     (None, 12, 30, 128)       512       \n",
      "_________________________________________________________________\n",
      "elu4 (ELU)                   (None, 12, 30, 128)       0         \n",
      "_________________________________________________________________\n",
      "pool4 (MaxPooling2D)         (None, 6, 15, 128)        0         \n",
      "_________________________________________________________________\n",
      "dropout4 (Dropout)           (None, 6, 15, 128)        0         \n",
      "_________________________________________________________________\n",
      "permute_13 (Permute)         (None, 15, 6, 128)        0         \n",
      "_________________________________________________________________\n",
      "reshape_15 (Reshape)         (None, 15, 768)           0         \n",
      "_________________________________________________________________\n",
      "gru2 (GRU)                   (None, 32)                76992     \n",
      "_________________________________________________________________\n",
      "output (Dense)               (None, 1)                 33        \n",
      "=================================================================\n",
      "Total params: 1,556,129\n",
      "Trainable params: 1,555,233\n",
      "Non-trainable params: 896\n",
      "_________________________________________________________________\n"
     ]
    }
   ],
   "source": [
    "def cnn_block(model, num_filters, pool_size, layer_id):\n",
    "    model.add(layers.Conv2D(num_filters, [6, 6], padding='same', name=f'conv{layer_id}'))\n",
    "    model.add(layers.BatchNormalization(axis=-1, name=f'bn{layer_id}'))\n",
    "    model.add(layers.ELU(name=f'elu{layer_id}'))\n",
    "    model.add(layers.MaxPool2D(pool_size, name=f'pool{layer_id}'))\n",
    "    model.add(layers.Dropout(0.1, name=f'dropout{layer_id}'))\n",
    "    return model\n",
    "\n",
    "def music_crnn(input_shape):\n",
    "    model = tf.keras.Sequential()\n",
    "\n",
    "    model.add(layers.ZeroPadding2D((0, 1), input_shape=input_shape))#(96, 236, 1)\n",
    "    model = cnn_block(model, 64, (2,2), 1)\n",
    "    model = cnn_block(model, 128, (2,2), 2)\n",
    "    model = cnn_block(model, 128, (2,2), 3)\n",
    "    model = cnn_block(model, 128, (2,2), 4)\n",
    "#     model = cnn_block(model, 128, (2,2), 5)\n",
    "#     model = cnn_block(model, 128, (2,2), 6)\n",
    "    \n",
    "    model.add(layers.Permute((2, 1, 3)))\n",
    "\n",
    "    model.add(layers.Reshape((15, 6*128)))\n",
    "#     model.add(layers.GRU(64, return_sequences=True, name='gru1'))\n",
    "    model.add(layers.GRU(32, return_sequences=False, name='gru2'))\n",
    "#     model.add(layers.Dropout(0.3, name=f'dropout5'))\n",
    "#     model.add(layers.Flatten())\n",
    "\n",
    "    model.add(layers.Dense(1, name='output'))\n",
    "\n",
    "    model.summary()\n",
    "    return model\n",
    "model = music_crnn((96, 238, 1))"
   ]
  },
  {
   "cell_type": "code",
   "execution_count": null,
   "metadata": {},
   "outputs": [],
   "source": [
    "def cnn_block(model, num_filters, pool_size, layer_id):\n",
    "    model.add(layers.Conv2D(num_filters, 3, padding='same', name=f'conv{layer_id}'))\n",
    "    model.add(layers.BatchNormalization(axis=-1, name=f'bn{layer_id}'))\n",
    "    model.add(layers.ELU(name=f'elu{layer_id}'))\n",
    "    model.add(layers.MaxPool2D(pool_size, name=f'pool{layer_id}'))\n",
    "    model.add(layers.Dropout(0.1, name=f'dropout{layer_id}'))\n",
    "    return model\n",
    "\n",
    "def music_crnn(input_shape):\n",
    "    model = tf.keras.Sequential()\n",
    "\n",
    "    model.add(layers.ZeroPadding2D((0, 37), input_shape=input_shape))#(96, 236, 1)\n",
    "    model = cnn_block(model, 64, (3,3), 1)\n",
    "    model = cnn_block(model, 128, (2,2), 2)\n",
    "    model = cnn_block(model, 128, (4,4), 3)\n",
    "    model = cnn_block(model, 128,Reshape((6*15, 128)))\n",
    "#     model.add(layers.GRU(64, return_sequences=True, name='gru1'))\n",
    "#     model.add(layers.GRU(32, return_sequences=False, name='gru2'))\n",
    "#     model.add(layers.Dropout( (4,4), 4)\n",
    "\n",
    "    model.add(layers.Reshape((3, 128)))\n",
    "    model.add(layers.GRU(64, return_sequences=True, name='gru1'))\n",
    "    model.add(layers.GRU(32, return_sequences=False, name='gru2'))\n",
    "    model.add(layers.Dropout(0.3, name=f'dropout5'))\n",
    "#     model.add(layers.Flatten())\n",
    "\n",
    "    model.add(layers.Dense(1, name='output'))\n",
    "\n",
    "    model.summary()\n",
    "    return model\n",
    "model = music_crnn((96, 238, 1))"
   ]
  },
  {
   "cell_type": "code",
   "execution_count": 67,
   "metadata": {},
   "outputs": [],
   "source": [
    "learning_rate = 0.001\n",
    "save_dir = './rcnn/'\n",
    "log_dir = save_dir + 'logs/'\n",
    "checkpoint_dir = save_dir + 'checkpoints/'\n",
    "\n",
    "lr_schedule = tf.keras.optimizers.schedules.InverseTimeDecay(\n",
    "    learning_rate,\n",
    "    decay_steps=steps_per_epoch*5,\n",
    "    decay_rate=1,\n",
    "    staircase=False)\n",
    "\n",
    "optimizer = tf.keras.optimizers.Adam(lr_schedule)\n",
    "\n",
    "callbacks = [\n",
    "        tf.keras.callbacks.EarlyStopping(monitor='val_accuracy', patience=3),\n",
    "        tf.keras.callbacks.TensorBoard(log_dir),\n",
    "        tf.keras.callbacks.ModelCheckpoint(filepath=checkpoint_dir,\n",
    "                                            monitor='val_accuracy',\n",
    "                                             verbose=1,\n",
    "                                             save_best_only=True,\n",
    "                                            save_weights_only=True)\n",
    "    ]"
   ]
  },
  {
   "cell_type": "code",
   "execution_count": 68,
   "metadata": {
    "scrolled": false
   },
   "outputs": [
    {
     "name": "stdout",
     "output_type": "stream",
     "text": [
      "Epoch 1/100\n",
      "    929/Unknown - 25s 27ms/step - loss: 0.6100 - accuracy: 0.6292\n",
      "Epoch 00001: val_accuracy improved from -inf to 0.66776, saving model to ./rcnn/checkpoints/\n",
      "929/929 [==============================] - 28s 31ms/step - loss: 0.6100 - accuracy: 0.6292 - val_loss: 0.0000e+00 - val_accuracy: 0.0000e+00\n",
      "Epoch 2/100\n",
      "927/929 [============================>.] - ETA: 0s - loss: 0.5582 - accuracy: 0.6753\n",
      "Epoch 00002: val_accuracy improved from 0.66776 to 0.72190, saving model to ./rcnn/checkpoints/\n",
      "929/929 [==============================] - 26s 28ms/step - loss: 0.5583 - accuracy: 0.6755 - val_loss: 0.5300 - val_accuracy: 0.7219\n",
      "Epoch 3/100\n",
      "926/929 [============================>.] - ETA: 0s - loss: 0.5174 - accuracy: 0.7184\n",
      "Epoch 00003: val_accuracy improved from 0.72190 to 0.73749, saving model to ./rcnn/checkpoints/\n",
      "929/929 [==============================] - 26s 28ms/step - loss: 0.5169 - accuracy: 0.7193 - val_loss: 0.5134 - val_accuracy: 0.7375\n",
      "Epoch 4/100\n",
      "928/929 [============================>.] - ETA: 0s - loss: 0.4927 - accuracy: 0.7443\n",
      "Epoch 00004: val_accuracy improved from 0.73749 to 0.75226, saving model to ./rcnn/checkpoints/\n",
      "929/929 [==============================] - 27s 29ms/step - loss: 0.4927 - accuracy: 0.7441 - val_loss: 0.5041 - val_accuracy: 0.7523\n",
      "Epoch 5/100\n",
      "926/929 [============================>.] - ETA: 0s - loss: 0.4688 - accuracy: 0.7654\n",
      "Epoch 00005: val_accuracy improved from 0.75226 to 0.76046, saving model to ./rcnn/checkpoints/\n",
      "929/929 [==============================] - 28s 30ms/step - loss: 0.4690 - accuracy: 0.7648 - val_loss: 0.5168 - val_accuracy: 0.7605\n",
      "Epoch 6/100\n",
      "927/929 [============================>.] - ETA: 0s - loss: 0.4436 - accuracy: 0.7821\n",
      "Epoch 00006: val_accuracy improved from 0.76046 to 0.77194, saving model to ./rcnn/checkpoints/\n",
      "929/929 [==============================] - 25s 27ms/step - loss: 0.4435 - accuracy: 0.7815 - val_loss: 0.4348 - val_accuracy: 0.7719\n",
      "Epoch 7/100\n",
      "926/929 [============================>.] - ETA: 0s - loss: 0.4246 - accuracy: 0.7927\n",
      "Epoch 00007: val_accuracy improved from 0.77194 to 0.82034, saving model to ./rcnn/checkpoints/\n",
      "929/929 [==============================] - 25s 27ms/step - loss: 0.4250 - accuracy: 0.7922 - val_loss: 0.4114 - val_accuracy: 0.8203\n",
      "Epoch 8/100\n",
      "928/929 [============================>.] - ETA: 0s - loss: 0.4081 - accuracy: 0.7988\n",
      "Epoch 00008: val_accuracy improved from 0.82034 to 0.82445, saving model to ./rcnn/checkpoints/\n",
      "929/929 [==============================] - 26s 28ms/step - loss: 0.4081 - accuracy: 0.7987 - val_loss: 0.4047 - val_accuracy: 0.8244\n",
      "Epoch 9/100\n",
      "926/929 [============================>.] - ETA: 0s - loss: 0.3821 - accuracy: 0.8172\n",
      "Epoch 00009: val_accuracy did not improve from 0.82445\n",
      "929/929 [==============================] - 27s 29ms/step - loss: 0.3824 - accuracy: 0.8167 - val_loss: 0.4474 - val_accuracy: 0.8203\n",
      "Epoch 10/100\n",
      "927/929 [============================>.] - ETA: 0s - loss: 0.3576 - accuracy: 0.8287\n",
      "Epoch 00010: val_accuracy improved from 0.82445 to 0.83921, saving model to ./rcnn/checkpoints/\n",
      "929/929 [==============================] - 27s 29ms/step - loss: 0.3575 - accuracy: 0.8288 - val_loss: 0.4279 - val_accuracy: 0.8392\n",
      "Epoch 11/100\n",
      "927/929 [============================>.] - ETA: 0s - loss: 0.3370 - accuracy: 0.8422\n",
      "Epoch 00011: val_accuracy did not improve from 0.83921\n",
      "929/929 [==============================] - 27s 29ms/step - loss: 0.3368 - accuracy: 0.8420 - val_loss: 0.3923 - val_accuracy: 0.8376\n",
      "Epoch 12/100\n",
      "928/929 [============================>.] - ETA: 0s - loss: 0.3084 - accuracy: 0.8580\n",
      "Epoch 00012: val_accuracy did not improve from 0.83921\n",
      "929/929 [==============================] - 27s 29ms/step - loss: 0.3084 - accuracy: 0.8582 - val_loss: 0.4917 - val_accuracy: 0.8089\n",
      "Epoch 13/100\n",
      "928/929 [============================>.] - ETA: 0s - loss: 0.2901 - accuracy: 0.8726\n",
      "Epoch 00013: val_accuracy did not improve from 0.83921\n",
      "929/929 [==============================] - 26s 28ms/step - loss: 0.2901 - accuracy: 0.8727 - val_loss: 0.3940 - val_accuracy: 0.8335\n"
     ]
    }
   ],
   "source": [
    "epochs = 100\n",
    "\n",
    "model.compile(optimizer=optimizer,\n",
    "              loss=tf.keras.losses.BinaryCrossentropy(from_logits=True),\n",
    "              metrics=['accuracy'])\n",
    "\n",
    "history = model.fit(train_ds,\n",
    "                    epochs=epochs,\n",
    "                    validation_data=val_ds,\n",
    "                    callbacks=callbacks)"
   ]
  },
  {
   "cell_type": "code",
   "execution_count": 70,
   "metadata": {},
   "outputs": [
    {
     "name": "stdout",
     "output_type": "stream",
     "text": [
      "413/413 [==============================] - 4s 10ms/step - loss: 0.4429 - accuracy: 0.8172\n"
     ]
    },
    {
     "data": {
      "text/plain": [
       "[0.44290850566785794, 0.8171913]"
      ]
     },
     "execution_count": 70,
     "metadata": {},
     "output_type": "execute_result"
    }
   ],
   "source": [
    "model.load_weights(checkpoint_dir)\n",
    "model.evaluate(test_ds)"
   ]
  },
  {
   "cell_type": "code",
   "execution_count": null,
   "metadata": {},
   "outputs": [],
   "source": []
  }
 ],
 "metadata": {
  "kernelspec": {
   "display_name": "Python 3",
   "language": "python",
   "name": "python3"
  },
  "language_info": {
   "codemirror_mode": {
    "name": "ipython",
    "version": 3
   },
   "file_extension": ".py",
   "mimetype": "text/x-python",
   "name": "python",
   "nbconvert_exporter": "python",
   "pygments_lexer": "ipython3",
   "version": "3.7.5"
  }
 },
 "nbformat": 4,
 "nbformat_minor": 4
}
